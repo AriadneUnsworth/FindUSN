{
 "cells": [
  {
   "cell_type": "code",
   "execution_count": 7,
   "id": "f71c3b93-6278-4e9c-b0a2-7804ccc8543a",
   "metadata": {},
   "outputs": [
    {
     "name": "stderr",
     "output_type": "stream",
     "text": [
      "Mapped name None to device cuda0: Tesla V100-PCIE-32GB (0000:65:02.0)\n"
     ]
    }
   ],
   "source": [
    "import sys\n",
    "import os\n",
    "sys.path.append(\"engine/\")\n",
    "sys.path.append(\"funcs/\")\n",
    "sys.setrecursionlimit(10000)\n",
    "\n",
    "import theano.gpuarray\n",
    "theano.gpuarray.use('cuda0')\n",
    "\n",
    "import theano\n",
    "import theano.tensor as T\n",
    "from theano import config\n",
    "import numpy as np\n",
    "import pickle\n",
    "import copy\n",
    "import time\n",
    "from itertools import *\n",
    "\n",
    "from matplotlib import pyplot as plt\n",
    "from matplotlib import gridspec\n",
    "%matplotlib inline\n",
    "\n",
    "from VIMCO_alpha import *\n",
    "\n",
    "import scipy.io"
   ]
  },
  {
   "cell_type": "code",
   "execution_count": 2,
   "id": "2bf2596d-8e9a-4894-8bb5-f50558d75600",
   "metadata": {},
   "outputs": [],
   "source": [
    "config.gpu_preallcoate = 0.9"
   ]
  },
  {
   "cell_type": "code",
   "execution_count": 63,
   "id": "e6c9a96e-026b-4d62-afc7-257f19c16362",
   "metadata": {
    "collapsed": true,
    "jupyter": {
     "outputs_hidden": true
    },
    "tags": []
   },
   "outputs": [
    {
     "name": "stdout",
     "output_type": "stream",
     "text": [
      "11\n",
      "21\n",
      "13\n",
      "6\n",
      "9\n"
     ]
    },
    {
     "data": {
      "text/plain": [
       "[[array([-0.23492758, -0.18244086, -0.04925736, ...,  0.67032284,\n",
       "          0.35596177, -0.03306312]),\n",
       "  array([0.68918643, 0.86913181, 0.94927333, ..., 0.33546066, 0.39531902,\n",
       "         0.51772934]),\n",
       "  array([2.57856035, 2.86860137, 2.78498888, ..., 1.10403196, 1.43992057,\n",
       "         2.01759083]),\n",
       "  array([0.63676983, 0.59616368, 0.71187544, ..., 0.83873393, 0.84280121,\n",
       "         0.75983993]),\n",
       "  array([-0.01513953,  0.02246397,  0.04002773, ..., -0.26401131,\n",
       "         -0.18623395, -0.08680878]),\n",
       "  array([0.81977139, 0.83141094, 0.87719118, ..., 1.17769838, 1.02498992,\n",
       "         0.87915102]),\n",
       "  array([2.44210493, 2.9302013 , 3.06587224, ..., 0.21532572, 0.68898524,\n",
       "         1.58323478]),\n",
       "  array([0.39131044, 0.49021257, 0.61087252, ..., 0.15193403, 0.22134589,\n",
       "         0.3072331 ]),\n",
       "  array([0.22352287, 0.11609466, 0.1544367 , ..., 0.63148281, 0.54563117,\n",
       "         0.396095  ]),\n",
       "  array([1.55767456, 1.62805426, 1.47938152, ..., 0.3971513 , 0.74026   ,\n",
       "         1.20988914]),\n",
       "  array([0.6250518 , 0.63871818, 0.55280875, ..., 0.68774222, 0.59003283,\n",
       "         0.57573474])],\n",
       " [array([2.26233961, 2.36613458, 2.43465308, ..., 1.77623848, 1.96193855,\n",
       "         2.12605824]),\n",
       "  array([0.35299872, 0.26091119, 0.17165615, ..., 0.59774749, 0.5256674 ,\n",
       "         0.44280086]),\n",
       "  array([0.65549376, 0.60109077, 0.5653269 , ..., 0.88900608, 0.80440031,\n",
       "         0.72482641]),\n",
       "  array([1.7035455 , 1.71549064, 1.71036578, ..., 1.57900856, 1.63300833,\n",
       "         1.67542476]),\n",
       "  array([0.33470918, 0.28152325, 0.24424998, ..., 0.58628971, 0.488686  ,\n",
       "         0.40408232]),\n",
       "  array([-0.06080597,  0.22663262,  0.59490583, ..., -0.36893243,\n",
       "         -0.35793491, -0.25668553]),\n",
       "  array([0.82814073, 0.88013743, 0.894119  , ..., 0.51435587, 0.63540689,\n",
       "         0.74366621]),\n",
       "  array([0.55995965, 0.59891705, 0.61649664, ..., 0.36493309, 0.43613916,\n",
       "         0.50365837]),\n",
       "  array([0.53194148, 0.52283651, 0.51710753, ..., 0.57593141, 0.55946655,\n",
       "         0.54437774]),\n",
       "  array([0.62071655, 0.58081301, 0.53221705, ..., 0.652717  , 0.65922822,\n",
       "         0.64790801]),\n",
       "  array([0.36109007, 0.48150524, 0.59300103, ..., 0.04620947, 0.13358954,\n",
       "         0.24171087]),\n",
       "  array([0.14481067, 0.10745296, 0.10780825, ..., 0.43925051, 0.31894879,\n",
       "         0.21747989]),\n",
       "  array([0.18481139, 0.13723875, 0.09775465, ..., 0.32686241, 0.28494519,\n",
       "         0.23581219]),\n",
       "  array([-0.00588617, -0.06493261, -0.11021122, ...,  0.19967924,\n",
       "          0.13221108,  0.06175748]),\n",
       "  array([0.27744318, 0.32023631, 0.35008213, ..., 0.12628705, 0.17455905,\n",
       "         0.22691339]),\n",
       "  array([1.33818325, 1.4480087 , 1.51954142, ..., 0.85723354, 1.03253122,\n",
       "         1.19656935]),\n",
       "  array([0.94996401, 0.9848703 , 0.98487109, ..., 0.65653974, 0.78010565,\n",
       "         0.88036912]),\n",
       "  array([0.6441007 , 0.62495236, 0.61777728, ..., 0.78269442, 0.72292527,\n",
       "         0.67658286]),\n",
       "  array([-0.05603585, -0.09570163, -0.12366926, ...,  0.09375849,\n",
       "          0.04309598, -0.00834802]),\n",
       "  array([1.25678504, 1.29662874, 1.32295845, ..., 1.08167674, 1.14636835,\n",
       "         1.20575794]),\n",
       "  array([-0.14158874, -0.18400269, -0.20815866, ...,  0.09301934,\n",
       "         -0.00166608, -0.08054833])],\n",
       " [array([0.16701205, 0.20213158, 0.3739804 , ..., 0.02706093, 0.24916361,\n",
       "         0.3006408 ]),\n",
       "  array([0.31441581, 0.47536049, 0.45554997, ..., 0.14985006, 0.06751006,\n",
       "         0.09527019]),\n",
       "  array([0.76585453, 0.74874148, 0.69100784, ..., 0.36878976, 0.38664785,\n",
       "         0.59976671]),\n",
       "  array([0.98546053, 0.8219535 , 0.89844105, ..., 1.48025722, 1.57371888,\n",
       "         1.37716669]),\n",
       "  array([1.13724229, 1.09766638, 1.17820566, ..., 1.63697122, 1.66384569,\n",
       "         1.41576155]),\n",
       "  array([2.75505686, 3.04036613, 2.72716496, ..., 0.75812755, 0.81207414,\n",
       "         1.68795602]),\n",
       "  array([0.28520775, 0.30395524, 0.35085251, ..., 0.63421527, 0.63761419,\n",
       "         0.45289403]),\n",
       "  array([ 0.11472352, -0.25084915,  0.29040276, ...,  3.26240444,\n",
       "          3.40103264,  1.95082332]),\n",
       "  array([ 0.05569851, -0.00076901,  0.07318974, ...,  0.61824969,\n",
       "          0.57509913,  0.32639624]),\n",
       "  array([0.03590947, 0.0031983 , 0.042469  , ..., 0.25665796, 0.30983467,\n",
       "         0.20726843]),\n",
       "  array([1.07270279, 1.15749563, 1.00276534, ..., 0.02098705, 0.04081709,\n",
       "         0.53318223]),\n",
       "  array([1.66791949, 1.72995763, 1.36710271, ..., 0.50057137, 0.56886808,\n",
       "         1.05666692]),\n",
       "  array([ 0.07120887, -0.09470826, -0.00241778, ...,  0.29721701,\n",
       "          0.4804763 ,  0.39534232])],\n",
       " [array([0.54154075, 0.54247525, 0.53505311, ..., 0.48271178, 0.51183832,\n",
       "         0.53146001]),\n",
       "  array([0.2349316 , 0.24265947, 0.25696597, ..., 0.24501357, 0.237071  ,\n",
       "         0.23333768]),\n",
       "  array([0.33436106, 0.41785753, 0.50046872, ..., 0.11047927, 0.17754782,\n",
       "         0.25319309]),\n",
       "  array([0.72615514, 0.81449657, 0.89034706, ..., 0.43963353, 0.53273471,\n",
       "         0.6303167 ]),\n",
       "  array([1.7286329 , 1.78969721, 1.83313044, ..., 1.46677913, 1.56403141,\n",
       "         1.65241979]),\n",
       "  array([-0.41750702, -0.40797814, -0.38612393, ..., -0.3757817 ,\n",
       "         -0.40045742, -0.41477791])],\n",
       " [array([-0.04680432, -0.21441932, -0.03026651, ...,  0.79814852,\n",
       "          0.82121192,  0.47430094]),\n",
       "  array([0.09486058, 0.12059652, 0.09078678, ..., 0.19929476, 0.17121545,\n",
       "         0.10118103]),\n",
       "  array([ 0.59712822,  0.588762  ,  0.52852067, ..., -0.00123113,\n",
       "         -0.00901229,  0.31207596]),\n",
       "  array([0.47751082, 0.44075303, 0.45597221, ..., 0.35107741, 0.35511305,\n",
       "         0.42306057]),\n",
       "  array([ 1.43373685,  1.54912156,  1.45958279, ...,  0.02409869,\n",
       "         -0.06526125,  0.67821248]),\n",
       "  array([1.05414656, 1.12047272, 0.99456168, ..., 1.00226105, 0.84549927,\n",
       "         0.80910763]),\n",
       "  array([0.2139339 , 0.08811678, 0.04623023, ..., 0.0495724 , 0.07330447,\n",
       "         0.2053731 ]),\n",
       "  array([-0.21128502, -0.31744736,  0.0310775 , ...,  1.56687289,\n",
       "          1.70850761,  0.83655887]),\n",
       "  array([1.10016107, 1.2849656 , 1.34764656, ..., 0.97300522, 0.9216792 ,\n",
       "         0.92378306])]]"
      ]
     },
     "execution_count": 63,
     "metadata": {},
     "output_type": "execute_result"
    }
   ],
   "source": [
    "traces_prep = [[] for i in range(5)]\n",
    "for i in range(5):\n",
    "    datay = scipy.io.loadmat('/root/autodl-tmp/DeepSpike-master/dataset/crcns_cai-3_data/data.{}.train.preprocessed.mat'.format(i+1))\n",
    "    # print('./crcns_cai-3_data/data.{}.train.preprocessed.mat'.format(i+1))\n",
    "    print(len(datay['data'][0]))\n",
    "    for j in range(len(datay['data'][0])):\n",
    "        traces_prep[i].append(datay['data'][0][j]['calcium'][0][0][0])\n",
    "traces_prep"
   ]
  },
  {
   "cell_type": "code",
   "execution_count": 64,
   "id": "8cf6020c-c57b-4b16-ae69-06ba7fe87a3a",
   "metadata": {},
   "outputs": [],
   "source": [
    "data_dict = {'traces': traces_prep, 'spikes': Spikes_train, 'fps' : [50,50,50,50,50], 'spike_fps': 50}\n",
    "\n",
    "with open('new_data_prepped.pkl', 'wb') as f:\n",
    "    pickle.dump(data_dict, f, pickle.HIGHEST_PROTOCOL)"
   ]
  },
  {
   "cell_type": "code",
   "execution_count": 65,
   "id": "d6f0e28f-c3c5-4d52-89af-130dae83f7c3",
   "metadata": {},
   "outputs": [],
   "source": [
    "buffers = [100,40]\n",
    "timebins_eval = 250\n",
    "timebins = timebins_eval + sum(buffers)\n",
    "\n",
    "samples = 64\n",
    "lr = 5e-4\n",
    "batch_size = 12\n",
    "\n",
    "rng = np.random.RandomState(1)\n",
    "lasagne.random.set_rng(rng)\n",
    "\n",
    "# with open('data_prepped.pkl', 'rb') as f:\n",
    "#     data = pickle.load(f)\n",
    "    \n",
    "\n",
    "with open('new_data_prepped.pkl', 'rb') as f:\n",
    "    data = pickle.load(f)\n",
    "n_cells = 5\n",
    "\n",
    "Traces_train = data['traces'][:n_cells]\n",
    "Spikes_train = data['spikes'][:n_cells]\n",
    "\n",
    "fps = data['fps'][:n_cells]\n",
    "# fps = [50,50,50,50,50]\n",
    "spikefps = data['spike_fps']\n",
    "# spikefps = 50\n",
    "\n",
    "# sv_Traces,sv_Spikes = data_chop(timebins, Traces_train, Spikes_train, [],fps, spikefps,50, fb=False)\n",
    "# sv_Spikes = [[] for _ in range(n_cells)]\n",
    "# test_tr_us, test_sp_us = data_chop(1798, Traces_train,  Spikes_train, None, fps, spikefps,50,fb=False)"
   ]
  },
  {
   "cell_type": "code",
   "execution_count": 70,
   "id": "3dae193d-e796-4fec-a153-272df786cb30",
   "metadata": {},
   "outputs": [
    {
     "name": "stdout",
     "output_type": "stream",
     "text": [
      "50\n"
     ]
    },
    {
     "data": {
      "text/plain": [
       "[50, 50, 50, 50, 50]"
      ]
     },
     "execution_count": 70,
     "metadata": {},
     "output_type": "execute_result"
    }
   ],
   "source": [
    "print(data['spike_fps'])\n",
    "data['fps']"
   ]
  },
  {
   "cell_type": "code",
   "execution_count": null,
   "id": "ecd1a944-0d1d-4149-9e81-3fd981c3e98d",
   "metadata": {},
   "outputs": [],
   "source": [
    "def plot_preds_bl_cr_v2(model, data, cell=0, pred=True, ts=[0, 1000000], trace=0, figsize=None, GS=None, prob=0.25):\n",
    "    # print('cr')\n",
    "    n_samples = 13\n",
    "\n",
    "    # if figsize is None:\n",
    "    #     fig = plt.figure()\n",
    "    # elif isinstance(figsize, tuple):\n",
    "    #     fig = plt.figure(figsize=figsize)\n",
    "    # else:\n",
    "    #     fig = figsize\n",
    "\n",
    "    cp = sns.hls_palette(11, l=.4, s=.8)\n",
    "    try:\n",
    "        sr = model.superres\n",
    "    except KeyError:\n",
    "        sr = 1\n",
    "\n",
    "    start = 0\n",
    "    # end = - 1\n",
    "    end = len(data['spikes'][cell][trace])\n",
    "\n",
    "    fluor, spikes = data_resamp(data['traces'], data['spikes'], data['fps'], data['spike_fps'], model.resample)\n",
    "    fluor = np.array(fluor[cell][trace][ts[0]:ts[1]], ndmin=2).astype(config.floatX)\n",
    "    spikes = np.array(spikes[cell][trace][sr * ts[0]:sr * ts[1]], ndmin=2).astype(config.floatX)\n",
    "\n",
    "    # model.mgen.load_genparams(cell)\n",
    "    model.mgen.load_genparams(0)\n",
    "    rec_dict = model.mrec.get_sample(fluor, n_samples)\n",
    "    pred_prob = rec_dict['Probs']\n",
    "    # print(len(pred_prob[0]))\n",
    "    pred_spikes = rec_dict['Spikes']\n",
    "    pred_bl = 0\n",
    "\n",
    "    \n",
    "    dt = 1 / model.resample / sr\n",
    "    c = 1\n",
    "    t = np.arange(len(fluor[0, start:end])) * dt\n",
    "    t_sr = np.arange(len(fluor[0, start:end]) * sr) * dt / sr\n",
    "    \n",
    "    if model.mrec.n_genparams:\n",
    "        pred_pars = rec_dict['Params']\n",
    "    \n",
    "    # print(sr * start, sr * end, sr)\n",
    "    # pred_prob = pred_prob[:, sr * start:sr * end:sr].mean(axis=0)\n",
    "    pred_prob = pred_prob.mean(axis=0)\n",
    "    \n",
    "    \n",
    "    # pred_prob = np.where(pred_prob > prob, pred_prob, 0)\n",
    "    # pred_prob = np.where(pred_prob > prob, 1, 0)\n",
    "    \n",
    "    if prob==0:\n",
    "        pred_prob = np.where(pred_prob > prob, pred_prob, 0)\n",
    "    else:\n",
    "        pred_prob = np.where(pred_prob > prob, 1, 0)\n",
    "    \n",
    "    TP = 0  # 预测结果中实际为真的样本数\n",
    "    FN = 0\n",
    "    TN = 0\n",
    "    FP = 0\n",
    "    for i in range(len(pred_prob)):        \n",
    "        if spikes[0, i] == 0:\n",
    "            if pred_prob[i] == 0:\n",
    "                TN += 1  \n",
    "            else:\n",
    "                FP += 1\n",
    "        else:\n",
    "            if pred_prob[i] == 0:\n",
    "                FN += 1\n",
    "            else:\n",
    "                TP += 1\n",
    "    print(\"FP:\",FP)\n",
    "    print('TN:',TN)\n",
    "    FPR = FP / (FP + TN) # 假阳性\n",
    "    FNR = FN / (TP + FN) # 假阴性\n",
    "    TPR = TP / (TP + FN) # 真阳性\n",
    "    \n",
    "    pre_rate = (TP + TN) / len(pred_prob)\n",
    "    \n",
    "    \n",
    "    # return FPR, FNR, pre_rate\n",
    "    print('假阳性：', FPR)\n",
    "    print('假阴性：', FNR)\n",
    "    print('真阳性：', TPR)\n",
    "    print('准确率：', pre_rate)\n",
    "    print(len(pred_prob))\n",
    "    print(len(spikes[0, :]))\n",
    "    \n",
    "    \n",
    "    \n",
    "    return FPR, FNR, TPR, pre_rate"
   ]
  },
  {
   "cell_type": "code",
   "execution_count": 15,
   "id": "782cedb8-c122-4df1-a263-f7e880dc414e",
   "metadata": {},
   "outputs": [],
   "source": [
    "def smooth2nd(x,M): ##x 为一维数组\n",
    "    K = round(M/2-0.1) ##M应为奇数，如果是偶数，则取大1的奇数\n",
    "    lenX = len(x)\n",
    "    if lenX<2*K+1:\n",
    "        print('数据长度小于平滑点数')\n",
    "    else:\n",
    "        y = np.zeros(lenX)\n",
    "        for NN in range(0,lenX,1):\n",
    "            startInd = max([0,NN-K])\n",
    "            endInd = min(NN+K+1,lenX)\n",
    "            y[NN] = np.mean(x[startInd:endInd])\n",
    "##    y[0]=x[0]       #首部保持一致\n",
    "##    y[-1]=x[-1]     #尾部也保持一致\n",
    "    return(y)"
   ]
  },
  {
   "cell_type": "code",
   "execution_count": 71,
   "id": "6c1b85c1-0d26-44f3-bbfc-2aa37e1c25e7",
   "metadata": {},
   "outputs": [],
   "source": [
    "import copy\n",
    "data_smooth = copy.deepcopy(data)\n",
    "# Traces_train = data_smooth['traces'][:n_cells]\n",
    "# Spikes_train = data_smooth['spikes'][:n_cells]\n",
    "\n",
    "for i in range(n_cells):\n",
    "    for j in range(len(Traces_train[i])):\n",
    "        # print(len(Traces_train[i][j]))\n",
    "        # Traces_train[i][j] = smooth2nd(Traces_train[i][j], 15)\n",
    "        data_smooth['traces'][i][j] = smooth2nd(data_smooth['traces'][i][j], 30)"
   ]
  },
  {
   "cell_type": "markdown",
   "id": "9e9b2e99-081f-4cc8-8164-ce78916b6f02",
   "metadata": {},
   "source": [
    "# cell0"
   ]
  },
  {
   "cell_type": "code",
   "execution_count": 90,
   "id": "3be89baa-3401-40fc-b884-a83b40a38161",
   "metadata": {},
   "outputs": [],
   "source": [
    "# t_sr, pred_prob = plot_preds_bl_cr_v2(model_500,data,cell=0,trace=0,figsize=(35,7),ts=[0,2000], prob=0)"
   ]
  },
  {
   "cell_type": "markdown",
   "id": "e9999c4b-186e-43ef-943c-601adb93ba3d",
   "metadata": {},
   "source": [
    "# cell0 smooth"
   ]
  },
  {
   "cell_type": "code",
   "execution_count": 9,
   "id": "2ecd691a-b16b-476d-aa5c-d8005c8768ad",
   "metadata": {},
   "outputs": [
    {
     "name": "stdout",
     "output_type": "stream",
     "text": [
      "FP: 2175\n",
      "TN: 14112\n",
      "假阳性： 0.13354208878246454\n",
      "假阴性： 0.3990450204638472\n",
      "真阳性： 0.6009549795361528\n",
      "准确率： 0.8445333183123979\n",
      "17753\n",
      "17753\n"
     ]
    }
   ],
   "source": [
    "FPR, FNR, TPR, pre_rate = plot_preds_bl_cr_v2(model_500,data_smooth,cell=0,trace=0,figsize=(35,7),ts=[0,200000], prob=0.12)"
   ]
  },
  {
   "cell_type": "markdown",
   "id": "be5a588f-e9ef-48b7-a747-7965bf05faab",
   "metadata": {},
   "source": [
    "# cell1"
   ]
  },
  {
   "cell_type": "code",
   "execution_count": 89,
   "id": "23dab858-2a89-44d9-b199-bfe431984406",
   "metadata": {},
   "outputs": [],
   "source": [
    "# t_sr, pred_prob = plot_preds_bl_cr_v2(model_500,data,cell=1,trace=0,figsize=(35,7),ts=[0,4000000],prob=0)"
   ]
  },
  {
   "cell_type": "markdown",
   "id": "d1e27d62-ccb2-48f9-8b93-ff02ee390663",
   "metadata": {},
   "source": [
    "# cell1 smooth"
   ]
  },
  {
   "cell_type": "code",
   "execution_count": 69,
   "id": "adb3fb57-9743-41e3-ac87-592a0a215735",
   "metadata": {
    "tags": []
   },
   "outputs": [],
   "source": [
    "# t_sr, pred_prob = plot_preds_bl_cr(model_500,data_smooth,cell=1,trace=0,figsize=(35,7),ts=[0,2000])"
   ]
  },
  {
   "cell_type": "code",
   "execution_count": null,
   "id": "bb843746",
   "metadata": {},
   "outputs": [],
   "source": [
    "# t_sr, pred_prob = plot_preds_bl_cr_v2(model_500,data_smooth,cell=1,trace=0,figsize=(35,7),ts=[0,600000],prob=0.12)"
   ]
  },
  {
   "cell_type": "markdown",
   "id": "60d74735-f633-4bad-b6c3-99076410480e",
   "metadata": {},
   "source": [
    "# cell2"
   ]
  },
  {
   "cell_type": "code",
   "execution_count": 91,
   "id": "276ac26f-0d65-41ee-b155-7ed454207549",
   "metadata": {},
   "outputs": [],
   "source": [
    "# t_sr, pred_prob = plot_preds_bl_cr_v2(model_500,data,cell=2,trace=4,figsize=(35,7),ts=[0,6000], prob=0)"
   ]
  },
  {
   "cell_type": "code",
   "execution_count": 10,
   "id": "55496292-19c2-4b6f-9616-be8d0e6f94d0",
   "metadata": {},
   "outputs": [
    {
     "name": "stdout",
     "output_type": "stream",
     "text": [
      "FP: 460\n",
      "TN: 7661\n",
      "假阳性： 0.05664327053318557\n",
      "假阴性： 0.6627218934911243\n",
      "真阳性： 0.33727810650887574\n",
      "准确率： 0.9191393781770895\n",
      "8459\n",
      "8459\n"
     ]
    }
   ],
   "source": [
    "FPR, FNR, TPR, pre_rate = plot_preds_bl_cr_v2(model_500,data,cell=4,trace=4,figsize=(35,7),ts=[0,6000000], prob=0.12)"
   ]
  },
  {
   "cell_type": "code",
   "execution_count": 75,
   "id": "0a24be1f-59d1-40f6-8c2c-c9ffca41c324",
   "metadata": {},
   "outputs": [
    {
     "name": "stdout",
     "output_type": "stream",
     "text": [
      "numbers of cell: 5\n",
      "Cell  0\n",
      "traces  11\n",
      "71986\n",
      "71987\n",
      "35993\n",
      "71985\n",
      "71986\n",
      "71987\n",
      "71986\n",
      "71985\n",
      "71986\n",
      "59717\n",
      "71986\n",
      "Cell  1\n",
      "traces  21\n",
      "35508\n",
      "63034\n",
      "37082\n",
      "54398\n",
      "45599\n",
      "33685\n",
      "48929\n",
      "45014\n",
      "27414\n",
      "48039\n",
      "59274\n",
      "32049\n",
      "56189\n",
      "56241\n",
      "47032\n",
      "38917\n",
      "25709\n",
      "56555\n",
      "21252\n",
      "31077\n",
      "9682\n",
      "Cell  2\n",
      "traces  13\n",
      "53229\n",
      "60908\n",
      "24401\n",
      "20014\n",
      "27003\n",
      "16802\n",
      "60957\n",
      "60908\n",
      "60908\n",
      "60957\n",
      "60908\n",
      "60908\n",
      "60908\n",
      "Cell  3\n",
      "traces  6\n",
      "27763\n",
      "33280\n",
      "33229\n",
      "32000\n",
      "32973\n",
      "31066\n",
      "Cell  4\n",
      "traces  9\n",
      "16919\n",
      "16919\n",
      "16919\n",
      "16919\n",
      "16919\n",
      "16919\n",
      "16919\n",
      "16919\n",
      "16919\n"
     ]
    }
   ],
   "source": [
    "print('numbers of cell:', len(data_smooth['traces']))\n",
    "for c in range(len(data_smooth['traces'])):\n",
    "    print('Cell ', c)\n",
    "    print('traces ', len(data_smooth['traces'][c]))\n",
    "    for t in range(len(data_smooth['traces'][c])):\n",
    "        print(len(data_smooth['traces'][c][t]))"
   ]
  },
  {
   "cell_type": "code",
   "execution_count": 72,
   "id": "62b3d8fb-e21d-4e9e-bd4f-d4b6481e58ae",
   "metadata": {},
   "outputs": [],
   "source": [
    "import copy\n",
    "noise = copy.deepcopy(data['traces'])\n",
    "snr = copy.deepcopy(data['traces'])\n",
    "Traces_train_smooth = copy.deepcopy(data_smooth['traces'])"
   ]
  },
  {
   "cell_type": "code",
   "execution_count": null,
   "id": "7642204d-4680-4cac-86b8-f43fba73a40c",
   "metadata": {},
   "outputs": [],
   "source": [
    "import pandas as pd\n",
    "print('numbers of cell:', len(data_smooth['traces']))\n",
    "for c in range(len(data_smooth['traces'])):\n",
    "# for c in range(4,5):\n",
    "    print('Cell ', c)\n",
    "    print('traces ', len(data_smooth['traces'][c]))\n",
    "    t1 = time.time()\n",
    "    output0 = ['traces']\n",
    "    output1 = ['fpr']\n",
    "    # output2 = ['假阴率']\n",
    "    output3 = ['acc']\n",
    "    output4 = ['snr']\n",
    "    for t in range(len(data_smooth['traces'][c])):\n",
    "        \n",
    "        # plot_preds_bl_cr_v2(model_500,data_smooth,c,trace=t,figsize=(35,7),ts=[0,1400],prob=0)\n",
    "        FPR, FNR, TPR, pre_rate = plot_preds_bl_cr_v2(model_500,data_smooth,c,trace=t,figsize=(35,7),ts=[0,100000],prob=0.12)\n",
    "        output0.append(t)\n",
    "        output1.append(round(FPR, 2))\n",
    "        # output2.append(FNR)\n",
    "        output3.append(round(pre_rate, 2))\n",
    "        # plt.title('cell:{0} trace: {1}'.format(c, t))\n",
    "        # plt.savefig('/root/autodl-tmp/DeepSpike-master/output2' + folder + '/cell:{0} trace: {1}.png'.format(c, t))\n",
    "        # plt.show()\n",
    "        # Traces_train_smooth[c][t] = smooth2nd(Traces_train[c][t], 25)\n",
    "        noise[c][t] = data['traces'][c][t] - data_smooth['traces'][c][t]\n",
    "        snr = 10 * np.log10(np.sum(data_smooth['traces'][c][t]**2) / np.sum(noise[c][t]**2))\n",
    "        output4.append(round(snr, 2))\n",
    "    output0 = pd.DataFrame(output0)\n",
    "    output0 = output0.T\n",
    "    output1 = pd.DataFrame(output1)\n",
    "    output1 = output1.T\n",
    "    # output2 = pd.DataFrame(output2)\n",
    "    # output2 = output2.T\n",
    "    output3 = pd.DataFrame(output3)\n",
    "    output3 = output3.T\n",
    "    output4 = pd.DataFrame(output4)\n",
    "    output4 = output4.T\n",
    "    output = pd.concat([output0,output1])\n",
    "    # output = pd.concat([output,output2])\n",
    "    output = pd.concat([output,output3])\n",
    "    output = pd.concat([output,output4])\n",
    "    \n",
    "    \n",
    "    # output = pd.DataFrame(output)\n",
    "    # print(output)\n",
    "    # output = output.T\n",
    "    print(output)\n",
    "    # output2 = pd.DataFrame(output2)\n",
    "    # output = output.append(output3)\n",
    "    # output.T.to_excel(\"./test.xlsx\")\n",
    "    # output.to_csv(\"./data.{}.train.preprocessed.csv\".format(c+1), index=False)\n",
    "    # output.T.to_excel('/root/autodl-tmp/DeepSpike-master/OUTPUT/output_part6/' + folder + '/' + path[c][67:], index = False, header=None)\n",
    "    print(time.time()-t1)"
   ]
  }
 ],
 "metadata": {
  "kernelspec": {
   "display_name": "spike",
   "language": "python",
   "name": "spike"
  },
  "language_info": {
   "codemirror_mode": {
    "name": "ipython",
    "version": 3
   },
   "file_extension": ".py",
   "mimetype": "text/x-python",
   "name": "python",
   "nbconvert_exporter": "python",
   "pygments_lexer": "ipython3",
   "version": "3.6.13"
  }
 },
 "nbformat": 4,
 "nbformat_minor": 5
}
